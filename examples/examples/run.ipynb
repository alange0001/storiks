{
 "cells": [
  {
   "cell_type": "code",
   "execution_count": 1,
   "metadata": {},
   "outputs": [],
   "source": [
    "# Import storiks.plot.\n",
    "from storiks import run\n",
    "\n",
    "# Import some additional packages and set the absolute path of the current directory.\n",
    "import glob\n",
    "import os\n",
    "curdir = os.path.abspath('.')"
   ]
  },
  {
   "cell_type": "code",
   "execution_count": 2,
   "metadata": {
    "scrolled": true
   },
   "outputs": [
    {
     "name": "stdout",
     "output_type": "stream",
     "text": [
      "/output/examples\n",
      "base.flags\n",
      "base_pressure_iodepth.flags\n",
      "create-ycsb.flags\n",
      "exp_01-ycsb_workloadb.flags\n",
      "exp_01-ycsb_workloadb.label\n",
      "exp_02-ycsb_workloadb-pressure_iodepth_n1bs4rr100wr000.flags\n",
      "exp_02-ycsb_workloadb-pressure_iodepth_n1bs4rr100wr000.label\n",
      "exp_03-iodepth_bs4rr100wr000.flags\n",
      "plot.ipynb\n",
      "run.ipynb\n"
     ]
    }
   ],
   "source": [
    "# List files in the current directory.\n",
    "# /output   - experiment output directory (--output_dir informed in storiksctl start)\n",
    "# /workdata - data directory (--data_dir informed in storiksctl start)\n",
    "!pwd\n",
    "!ls"
   ]
  },
  {
   "cell_type": "code",
   "execution_count": 3,
   "metadata": {},
   "outputs": [
    {
     "name": "stdout",
     "output_type": "stream",
     "text": [
      "num.  status      start                end                  command\n",
      "----------------------------------------------------------------------------------------\n",
      "\n"
     ]
    }
   ],
   "source": [
    "# List the scheduled tasks\n",
    "run.list()"
   ]
  },
  {
   "cell_type": "code",
   "execution_count": 4,
   "metadata": {},
   "outputs": [
    {
     "name": "stdout",
     "output_type": "stream",
     "text": [
      "command 0 scheduled\n",
      "\n"
     ]
    }
   ],
   "source": [
    "# Create one or more files used by access_time3 (concurrent workloads)\n",
    "!mkdir /workdata/at3\n",
    "run.schedule(\n",
    "    'access_time3 --create_file --duration=5 --filename=/workdata/at3/0 --filesize=10240',\n",
    "    output=f'{curdir}/create-at3.txt', append=True)"
   ]
  },
  {
   "cell_type": "code",
   "execution_count": 5,
   "metadata": {},
   "outputs": [
    {
     "name": "stdout",
     "output_type": "stream",
     "text": [
      "command 1 scheduled\n",
      "\n"
     ]
    }
   ],
   "source": [
    "# Create a RocksDB database using YCSB\n",
    "!mkdir /workdata/rocksdb_ycsb_0\n",
    "run.schedule(\n",
    "    f'storiks --flagfile={curdir}/create-ycsb.flags',\n",
    "    output=f'{curdir}/create-ycsb.out')"
   ]
  },
  {
   "cell_type": "code",
   "execution_count": 6,
   "metadata": {
    "scrolled": true
   },
   "outputs": [
    {
     "name": "stdout",
     "output_type": "stream",
     "text": [
      "Scheduling exp_01-ycsb_workloadb.flags:\n",
      "command 2 scheduled\n",
      "\n",
      "command 3 scheduled\n",
      "\n",
      "command 4 scheduled\n",
      "\n",
      "Scheduling exp_02-ycsb_workloadb-pressure_iodepth_n1bs4rr100wr000.flags:\n",
      "command 5 scheduled\n",
      "\n",
      "command 6 scheduled\n",
      "\n",
      "command 7 scheduled\n",
      "\n",
      "Scheduling exp_03-iodepth_bs4rr100wr000.flags:\n",
      "command 8 scheduled\n",
      "\n",
      "command 9 scheduled\n",
      "\n",
      "command 10 scheduled\n",
      "\n"
     ]
    }
   ],
   "source": [
    "# Schedule all storiks experiments in the current directory (exp*.flags)\n",
    "for f in glob.glob('exp*.flags'):\n",
    "    print(f'Scheduling {f}:')\n",
    "    fprefix = f.replace('.flags', '')\n",
    "    run.schedule(f'storiks --flagfile={curdir}/{f}', output=f'{curdir}/{fprefix}.out')  # run the experiment\n",
    "    run.schedule(f\"bash -c 'xz -9 {curdir}/*.out'\")  # compress the output file\n",
    "    run.schedule(\"sleep 15\")  # wait 15 seconds before the next experiment"
   ]
  },
  {
   "cell_type": "code",
   "execution_count": 7,
   "metadata": {},
   "outputs": [
    {
     "name": "stdout",
     "output_type": "stream",
     "text": [
      "num.  status      start                end                  command\n",
      "----------------------------------------------------------------------------------------\n",
      "   0  running     2021-09-17 18:52:56                       access_time3 --create_file --duration=5 --file ...\n",
      "   1  scheduled                                             storiks --flagfile=/output/examples/create-ycs ...\n",
      "   2  scheduled                                             storiks --flagfile=/output/examples/exp_01-ycs ...\n",
      "   3  scheduled                                             bash -c 'xz -9 *.out'\n",
      "   4  scheduled                                             sleep 15\n",
      "   5  scheduled                                             storiks --flagfile=/output/examples/exp_02-ycs ...\n",
      "   6  scheduled                                             bash -c 'xz -9 *.out'\n",
      "   7  scheduled                                             sleep 15\n",
      "   8  scheduled                                             storiks --flagfile=/output/examples/exp_03-iod ...\n",
      "   9  scheduled                                             bash -c 'xz -9 *.out'\n",
      "  10  scheduled                                             sleep 15\n",
      "\n"
     ]
    }
   ],
   "source": [
    "# Check the scheduled tasks again\n",
    "run.list()"
   ]
  },
  {
   "cell_type": "code",
   "execution_count": 8,
   "metadata": {},
   "outputs": [
    {
     "name": "stdout",
     "output_type": "stream",
     "text": [
      "ScheduledCommand:\n",
      "\t    number = 1\n",
      "\t   command = storiks --flagfile=/output/examples/create-ycsb.flags\n",
      "\t    status = running\n",
      "\t     start = 2021-09-17 18:53:07\n",
      "\t       end = \n",
      "\t  exitcode = \n",
      "\t  fail_msg = \n",
      "\n"
     ]
    }
   ],
   "source": [
    "# Inspect the status of a particular task.\n",
    "run.status(1)"
   ]
  },
  {
   "cell_type": "code",
   "execution_count": 9,
   "metadata": {
    "scrolled": true
   },
   "outputs": [
    {
     "name": "stdout",
     "output_type": "stream",
     "text": [
      "command number 10 scheduled to cancel\n",
      "\n"
     ]
    }
   ],
   "source": [
    "# Or even cancel any unfinished task.\n",
    "run.cancel(10)"
   ]
  },
  {
   "cell_type": "code",
   "execution_count": null,
   "metadata": {},
   "outputs": [],
   "source": []
  }
 ],
 "metadata": {
  "kernelspec": {
   "display_name": "Python 3 (ipykernel)",
   "language": "python",
   "name": "python3"
  },
  "language_info": {
   "codemirror_mode": {
    "name": "ipython",
    "version": 3
   },
   "file_extension": ".py",
   "mimetype": "text/x-python",
   "name": "python",
   "nbconvert_exporter": "python",
   "pygments_lexer": "ipython3",
   "version": "3.9.5"
  }
 },
 "nbformat": 4,
 "nbformat_minor": 4
}
